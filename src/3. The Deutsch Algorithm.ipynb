{
 "cells": [
  {
   "cell_type": "code",
   "execution_count": 1,
   "metadata": {},
   "outputs": [],
   "source": [
    "import cirq"
   ]
  },
  {
   "cell_type": "markdown",
   "metadata": {},
   "source": [
    "We have already seen, that quantum circuits can be used to transfer information in an efficient way. \n",
    "Now, we will see for the first time how we can use a quantum circuit, to solve a problem in a more efficient way than it is possible with a classical porbabilistic Turing machine. While the problem we will introduce below seems and also is a bit artificial it demonstrates some important concepts.\n",
    "\n",
    "Reading Ch. 6, rspa.1992.0167"
   ]
  },
  {
   "cell_type": "markdown",
   "metadata": {},
   "source": [
    "Before we state the problem and show the algorithm we want to briefly describe a process called phase kick-back, which quite nicely demonstrates the power of working with states that are superposed"
   ]
  },
  {
   "cell_type": "markdown",
   "metadata": {},
   "source": [
    "To demonstrate the basic idea behind the phase kick-back we imagine a two qubit system, where the first qubit is im some arbitray superposition $a_0|0\\rangle +a_1|1\\rangle $ and the second qubit is in the following state $\\frac{1}{\\sqrt{2}}(|0\\rangle -|1\\rangle) = H|1\\rangle$. Hence the system is in the follwoing state\n",
    "\\begin{equation}\n",
    "|\\psi\\rangle = \\left(a_0|0\\rangle +a_1|1\\rangle\\right)\\frac{1}{\\sqrt{2}}(|0\\rangle -|1\\rangle)\n",
    "\\end{equation}\n",
    "If we now look at the effect of a general unitary transformation $cU_{f(x)}$ where the first gate controls the transformation, i.e. $cU=|0\\rangle\\langle0| \\otimes U_{f(0)} + |1\\rangle\\langle1| \\otimes U_{f(1)}$, with $f:\\{0,1\\}\\rightarrow \\{0,1\\}$ and $U_{f(x)}|y\\rangle = |y\\oplus f(x)\\rangle $. It is now a simple exercise to apply $cU_{f(x)}$ to the initial state and we find\n",
    "\\begin{equation}\n",
    "|\\psi\\rangle = \\left((-1)^{f(0)}a_0|0\\rangle +(-1)^{f(1)}a_1|1\\rangle\\right)\\frac{1}{\\sqrt{2}}(|0\\rangle -|1\\rangle)\n",
    "\\end{equation}\n",
    "Suprisingly, we have in fact not modified the target state but the control state, and it's phase is changed by $\\pi f(x)$, hence the name phase kick-back"
   ]
  },
  {
   "cell_type": "markdown",
   "metadata": {},
   "source": [
    "We are now going to formulate the Deutsch problem and from there it should become clear, how one can use the phase kick-back idea to solve it "
   ]
  },
  {
   "cell_type": "markdown",
   "metadata": {},
   "source": [
    "\\textbf{The Deutsch Problem} \n",
    "\\begin{problem}\n",
    "Let $f: \\{0,1\\} \\rightarrow \\{0,1\\}$ be an unkown function.\n",
    "Determine $f(0) \\oplus f(1)$\n",
    "\\end{problem}"
   ]
  },
  {
   "cell_type": "markdown",
   "metadata": {},
   "source": [
    "It is obvious that with a classical computer this problem can be solved using two queries. \n",
    "The Deutsch algorithm can solve this problem using a quantum circuit using a \\textbf{single} querry"
   ]
  },
  {
   "cell_type": "markdown",
   "metadata": {},
   "source": [
    "This can be done using the phase kick-back.\n",
    "Imagine we strart out in the state $|\\psi\\rangle = \\frac{1}{2}\\left(|0\\rangle +1\\rangle\\right)(|0\\rangle -|1\\rangle)$ If we now apply $cU_{f(x)}$ we find \n",
    "\\begin{equation}\n",
    "|\\psi_1\\rangle =cU|\\psi\\rangle = \\frac{(-1)^{f(0)}}{2}\\left(|0\\rangle +(-1)^{f(1)\\oplus f(0)}|1\\rangle\\right)(|0\\rangle -|1\\rangle)\n",
    "\\end{equation}\n",
    "One can now see that the state in the first bracket is the outcome of applying the Hadamard gate to $|0\\rangle$ or ($|1\\rangle$), when $f(1)\\oplus f(0) =0$ ($f(1)\\oplus f(0)=1$). Using that the Hadmard gate is self inverse, we find \n",
    "\\begin{equation}\n",
    "H|\\psi_1\\rangle = \\frac{(-1)^{f(0)}}{\\sqrt{2}}|0 (1)\\rangle (|0\\rangle -|1\\rangle)\n",
    "\\end{equation}\n",
    "telling us the value of $f(0) \\oplus f(1)$"
   ]
  },
  {
   "cell_type": "markdown",
   "metadata": {},
   "source": [
    "Before we implement the Deutsch cuircuit we have to construct a circuit, that implements $cU_{f(x)}$"
   ]
  },
  {
   "cell_type": "code",
   "execution_count": 15,
   "metadata": {},
   "outputs": [],
   "source": [
    "def f_cirquit(q0,q1, f0, f1):\n",
    "    if f0:\n",
    "        yield [cirq.X(q0),cirq.CNOT(q0,q1),cirq.X(q0)]\n",
    "    if f1:\n",
    "        yield cirq.CNOT(q0,q1)"
   ]
  },
  {
   "cell_type": "code",
   "execution_count": 32,
   "metadata": {},
   "outputs": [],
   "source": [
    "def deutsch_circuit(f0, f1):\n",
    "    c = cirq.Circuit()\n",
    "    q0,q1 = cirq.LineQubit.range(2)\n",
    "    #create intial states\n",
    "    c.append([cirq.H(q0),cirq.X(q1),cirq.H(q1)])\n",
    "    #apply cU_f\n",
    "    c.append(f_cirquit(q0,q1, f0, f1))\n",
    "    #apply final H gate\n",
    "    c.append(cirq.H(q0))\n",
    "    #measure first qubit\n",
    "    c.append(cirq.measure(q0))\n",
    "    return c"
   ]
  },
  {
   "cell_type": "code",
   "execution_count": 61,
   "metadata": {},
   "outputs": [
    {
     "name": "stdout",
     "output_type": "stream",
     "text": [
      "0: ───H───X───@───X───H───M───\n",
      "              │\n",
      "1: ───X───H───X───────────────\n"
     ]
    }
   ],
   "source": [
    "s=cirq.Simulator()\n",
    "c = deutsch_circuit(1,0)\n",
    "print(c)"
   ]
  },
  {
   "cell_type": "code",
   "execution_count": 65,
   "metadata": {},
   "outputs": [],
   "source": [
    "x = s.simulate(c)"
   ]
  },
  {
   "cell_type": "code",
   "execution_count": 72,
   "metadata": {},
   "outputs": [
    {
     "data": {
      "text/plain": [
       "measurements: 0=1\n",
       "output vector: -0.707|10⟩ + 0.707|11⟩"
      ]
     },
     "execution_count": 72,
     "metadata": {},
     "output_type": "execute_result"
    }
   ],
   "source": [
    "x"
   ]
  },
  {
   "cell_type": "code",
   "execution_count": 78,
   "metadata": {},
   "outputs": [],
   "source": [
    "for f in [(0,0),(0,1),(1,0),(1,1)]:\n",
    "    s=cirq.Simulator()\n",
    "    c = deutsch_circuit(*f)\n",
    "    x = s.simulate(c)\n",
    "    assert (f[0] + f[1])%2 == x.measurements['0'][0]"
   ]
  }
 ],
 "metadata": {
  "kernelspec": {
   "display_name": "Python 3",
   "language": "python",
   "name": "python3"
  },
  "language_info": {
   "codemirror_mode": {
    "name": "ipython",
    "version": 3
   },
   "file_extension": ".py",
   "mimetype": "text/x-python",
   "name": "python",
   "nbconvert_exporter": "python",
   "pygments_lexer": "ipython3",
   "version": "3.7.6"
  },
  "latex_envs": {
   "LaTeX_envs_menu_present": true,
   "autoclose": false,
   "autocomplete": true,
   "bibliofile": "biblio.bib",
   "cite_by": "apalike",
   "current_citInitial": 1,
   "eqLabelWithNumbers": true,
   "eqNumInitial": 1,
   "hotkeys": {
    "equation": "Ctrl-E",
    "itemize": "Ctrl-I"
   },
   "labels_anchors": false,
   "latex_user_defs": false,
   "report_style_numbering": false,
   "user_envs_cfg": false
  }
 },
 "nbformat": 4,
 "nbformat_minor": 4
}
