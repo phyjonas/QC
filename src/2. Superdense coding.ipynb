{
 "cells": [
  {
   "cell_type": "code",
   "execution_count": 1,
   "metadata": {},
   "outputs": [],
   "source": [
    "import cirq"
   ]
  },
  {
   "cell_type": "markdown",
   "metadata": {},
   "source": [
    "We have already seen how we can use a quantum circuit to send a full quantum state just using two bits of classical information. This leads to a natural follow up question, namely can we use a quantum channel to transport classical information in an efficient way.\n",
    "\n",
    "This can be done by something called superdense Coding. \n",
    "Here Alice sends one qubit through a quantum channel and thereby communicates two bits of classical information to Bob"
   ]
  },
  {
   "cell_type": "markdown",
   "metadata": {},
   "source": [
    "Reading: Ch 5, Phys. Rev. Lett. 69, 2881"
   ]
  },
  {
   "cell_type": "markdown",
   "metadata": {},
   "source": [
    "Again Bob and Alice start out with shared Bell state $|\\beta_{00}\\rangle$.\n",
    "In fact the idea here is even simpler than the one used for quantum teleportation.\n",
    "\n",
    "It is now easy to see that with the help of a suitbale (application of a unitary Transformation only acting on the subsapce of the first qubit) single qubit gate Alice can transform $|\\beta_{00}\\rangle$ into any other Bell-state.\n",
    "\n",
    "For example:\n",
    "\\begin{equation}\n",
    "Z \\otimes  I |\\beta_{00}\\rangle = \\frac{1}{\\sqrt{2}}\\left(|00\\rangle-|11\\rangle \\right) = |\\beta_{10}\\rangle\n",
    "\\end{equation}\n",
    "So if Alice now sends her qubit to Bob and Bob performs a Bell measurment he will know both classical bits. Fundamentally this protocol simply exploits the nature of entanglement"
   ]
  },
  {
   "cell_type": "code",
   "execution_count": 51,
   "metadata": {},
   "outputs": [],
   "source": [
    "from gates import make_bell_state, bell_measurement\n",
    "def superedense(b1,b2):\n",
    "    #creat two qubuits\n",
    "    a, b =cirq.LineQubit.range(2)\n",
    "    #dictornary how to send bits\n",
    "    to_send = {(0,0):[], (0,1):[cirq.X(a)],(1,0):[cirq.Z(a)], (1,1):[cirq.X(a),cirq.Z(a)]}\n",
    "    c = cirq.Circuit()\n",
    "    #create bell state \\beta_{00}\n",
    "    c.append(make_bell_state(a,b))\n",
    "    #Alice transforms 00 to required bell state \n",
    "    c.append(to_send[(b1,b2)])\n",
    "    #Alice send state to Bob who performs bell measurment\n",
    "    bell_measurement(c,a,b)\n",
    "    print(\"Circuit to send {}{}\".format(b1,b2))\n",
    "    print(c)\n",
    "    return c"
   ]
  },
  {
   "cell_type": "markdown",
   "metadata": {},
   "source": [
    "Let's see if it all worked out"
   ]
  },
  {
   "cell_type": "code",
   "execution_count": 52,
   "metadata": {},
   "outputs": [
    {
     "name": "stdout",
     "output_type": "stream",
     "text": [
      "Circuit to send 00\n",
      "0: ───H───@───@───H───M───\n",
      "          │   │       │\n",
      "1: ───────X───X───────M───\n",
      "measurements: 0,1=00\n",
      "output vector: |00⟩\n",
      "\n",
      "Circuit to send 01\n",
      "0: ───H───@───X───@───H───M───\n",
      "          │       │       │\n",
      "1: ───────X───────X───────M───\n",
      "measurements: 0,1=01\n",
      "output vector: |01⟩\n",
      "\n",
      "Circuit to send 10\n",
      "0: ───H───@───Z───@───H───M───\n",
      "          │       │       │\n",
      "1: ───────X───────X───────M───\n",
      "measurements: 0,1=10\n",
      "output vector: |10⟩\n",
      "\n",
      "Circuit to send 11\n",
      "0: ───H───@───X───Z───@───H───M───\n",
      "          │           │       │\n",
      "1: ───────X───────────X───────M───\n",
      "measurements: 0,1=11\n",
      "output vector: |11⟩\n",
      "\n"
     ]
    }
   ],
   "source": [
    "for b in [(0,0), (0,1), (1,0), (1,1)]:\n",
    "    c = superedense(*b)\n",
    "    s=cirq.Simulator()\n",
    "    results=s.simulate(c)\n",
    "    print(results)\n",
    "    print()"
   ]
  }
 ],
 "metadata": {
  "kernelspec": {
   "display_name": "Python 3",
   "language": "python",
   "name": "python3"
  },
  "language_info": {
   "codemirror_mode": {
    "name": "ipython",
    "version": 3
   },
   "file_extension": ".py",
   "mimetype": "text/x-python",
   "name": "python",
   "nbconvert_exporter": "python",
   "pygments_lexer": "ipython3",
   "version": "3.7.6"
  },
  "latex_envs": {
   "LaTeX_envs_menu_present": true,
   "autoclose": false,
   "autocomplete": true,
   "bibliofile": "biblio.bib",
   "cite_by": "apalike",
   "current_citInitial": 1,
   "eqLabelWithNumbers": true,
   "eqNumInitial": 1,
   "hotkeys": {
    "equation": "Ctrl-E",
    "itemize": "Ctrl-I"
   },
   "labels_anchors": false,
   "latex_user_defs": false,
   "report_style_numbering": false,
   "user_envs_cfg": false
  }
 },
 "nbformat": 4,
 "nbformat_minor": 4
}
