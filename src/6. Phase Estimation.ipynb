{
 "cells": [
  {
   "cell_type": "code",
   "execution_count": 1,
   "metadata": {},
   "outputs": [],
   "source": [
    "import cirq\n",
    "import matplotlib.pyplot as plt"
   ]
  },
  {
   "cell_type": "markdown",
   "metadata": {},
   "source": [
    "After seeing how the QFT works and how it can be implemented efficiently, we want to briefly discuss an application of the QFT, namely the phase estimation.\n",
    "Reading Ch.7.1, arXiv:quant-ph/9511026\n",
    "\n",
    "The scenario is the following, we are given a unitary operator $U$ and an eigenvector $|\\psi\\rangle$ corresponding to an unknown eigenvalue $\\lambda$. Our task is to compute (approximate) $\\lambda$.\n",
    "For this, we, of course, want to use the QFT. To do so we first notice that since $U$ is unitary we can write $\\lambda = e^{2\\pi i \\phi}$, with $\\phi \\in [0,1)$.\n",
    "Let's assume for a moment that we know $\\phi$ can be written exact;y with n bits ($\\phi = 0.\\phi_1\\phi_2...\\phi_n$), then the phase estimation algoritm becomes clear:\n",
    "\\begin{theorem}\n",
    "The phase can be calculated (estimated with high probability in the case where $\\phi$ can not be written with n bits) Let $N = 2^n$\n",
    "\n",
    "1. Start with $|\\psi_1\\rangle = |0\\rangle^{n}|\\psi\\rangle$\n",
    "2. Apply $H^{\\otimes n} \\otimes I$ to $|\\psi_1\\rangle$ giving $|\\psi_2\\rangle =\\frac{1}{2^{n/2}}\\sum^{N-1}_j|j\\rangle|\\psi\\rangle$ \n",
    "3. Apply $|\\psi_3\\rangle = \\tilde{U}|\\psi_2\\rangle = {2^{-n/2}}\\sum^{N-1}_j|j\\rangle U^j |\\psi\\rangle = {2^{-n/2}}\\sum^{N-1}_j|j\\rangle e^{2\\pi i \\phi j} |\\psi\\rangle = {2^{-n/2}}\\sum^{N-1}_je^{2\\pi i (2^n \\phi) j/2^n} |j\\rangle |\\psi\\rangle = \\mathrm{QFT}|2^n\\phi\\rangle |\\psi\\rangle$\n",
    "4. Apply $|\\psi_4\\rangle =(\\mathrm{QFT}^{-1}_{2^N} \\otimes I)|\\psi_3\\rangle = |2^n\\phi\\rangle |\\psi\\rangle$ and measure the first n-qubits\n",
    "\\end{theorem}\n",
    "In case the phase can not be written precisely with $n$ bits, the algorithm will return $\\hat{x}$, such that ${\\hat{x}}/2^n$ is the closest integer multiple of $1/2^n$ to $\\omega$ with probability $\\frac{4}{\\pi^2}$. See for example 7.1.1 for a detailed discussion."
   ]
  },
  {
   "cell_type": "markdown",
   "metadata": {},
   "source": [
    "We are now going to implement this algorithm for two cases.\n",
    "1. the almost trivial case where U = Z and we are given $(|0\\rangle)|1\\rangle$ (which has eigenvalue $1, \\phi = 0.0$ ($-1,\\phi = 1/2$ corresponding to $\\phi =0.1$ in binary)) \n",
    "2. The slightly more Interesting case of a phase gate $R_\\phi$, here we can also play with the number of bits in the first register"
   ]
  },
  {
   "cell_type": "code",
   "execution_count": 2,
   "metadata": {},
   "outputs": [],
   "source": [
    "def phase_est_Z(one = True):\n",
    "    c = cirq.Circuit()\n",
    "    #only need two qubits\n",
    "    q = cirq.LineQubit.range(2)\n",
    "    # apply H to first qubit \n",
    "    c.append([cirq.H(q[0])])\n",
    "    #bring second into eigenstate |1> \n",
    "    if one == True:\n",
    "        c.append([cirq.X(q[1])])\n",
    "    #apply \\tilde{U}=cU\n",
    "    c.append(cirq.CZ(q[0],q[1]))\n",
    "    #c.append(cirq.Z(q[1]))\n",
    "    #apply inverse qft (see 5. for implementation of qft)\n",
    "    c.append(cirq.qft(q[0])**-1)\n",
    "    #measure first register\n",
    "    c.append(cirq.ops.measure(q[0]))\n",
    "    return c\n",
    "    "
   ]
  },
  {
   "cell_type": "code",
   "execution_count": 3,
   "metadata": {},
   "outputs": [
    {
     "data": {
      "text/html": [
       "<pre style=\"overflow: auto; white-space: pre;\">0: ───H───@───qft^-1───M───\n",
       "          │\n",
       "1: ───X───@────────────────</pre>"
      ],
      "text/plain": [
       "0: ───H───@───qft^-1───M───\n",
       "          │\n",
       "1: ───X───@────────────────"
      ]
     },
     "execution_count": 3,
     "metadata": {},
     "output_type": "execute_result"
    }
   ],
   "source": [
    "phase_est_Z()"
   ]
  },
  {
   "cell_type": "code",
   "execution_count": 4,
   "metadata": {},
   "outputs": [],
   "source": [
    "s=cirq.Simulator()\n",
    "c =phase_est_Z(True)"
   ]
  },
  {
   "cell_type": "code",
   "execution_count": 5,
   "metadata": {},
   "outputs": [
    {
     "data": {
      "text/plain": [
       "measurements: 0=1\n",
       "output vector: |11⟩"
      ]
     },
     "execution_count": 5,
     "metadata": {},
     "output_type": "execute_result"
    }
   ],
   "source": [
    "# eigenvalue -1 so we expect phase of \\pi which corresponds to \\phi =1 \n",
    "s.simulate(c)"
   ]
  },
  {
   "cell_type": "code",
   "execution_count": 6,
   "metadata": {},
   "outputs": [],
   "source": [
    "# eigenvalue 1 so we expect phase of 0 which corresponds to \\phi =0\n",
    "s=cirq.Simulator()\n",
    "c =phase_est_Z(False)"
   ]
  },
  {
   "cell_type": "code",
   "execution_count": 7,
   "metadata": {},
   "outputs": [
    {
     "data": {
      "text/plain": [
       "measurements: 0=0\n",
       "output vector: |00⟩"
      ]
     },
     "execution_count": 7,
     "metadata": {},
     "output_type": "execute_result"
    }
   ],
   "source": [
    "s.simulate(c)"
   ]
  },
  {
   "cell_type": "markdown",
   "metadata": {},
   "source": [
    "Let us now turn to the more interesting case, where we will estimate the phase of \n",
    "\\begin{equation}\n",
    "R_\\phi = \\begin{bmatrix} 1 &0 \\\\ 0 & e^{2\\pi i \\phi} \n",
    "\\end{bmatrix}= Z^{2\\phi}\n",
    "\\end{equation}\n",
    "This can now be implemented in a straightforward manner using controlled $Z$ gates.\n",
    "We want to have the follwoing unitary transformation\n",
    "\\begin{equation}\n",
    "\\tilde{U}|j\\rangle|\\psi\\rangle  =|j\\rangle U^j |\\psi\\rangle, \n",
    "\\end{equation}\n",
    "where we understand $j$ as the integer corresponding to it's binary representation (e.g. $3 = 1*2^1+1*2^0 = 11$) hence to every qubit of the register (numbered $i=0,1,...n-1$) we assign the correspoding controlled gate $cZ^{2^{n-i}}= cR^{2^{n-i-1}}$. It should become now clear, that for every number we will get the right number of $U$. To demonstrate this let's stick with our example $3 = 1*2^1+1*2^0 = 11$. If our rgeister is in the state $|11\\rangle$ we will apply $R^{2^{2-0-1}}R^{2^{2-1-1}} =R^{2^{1}}R^{2^{0}}= R^3 $."
   ]
  },
  {
   "cell_type": "code",
   "execution_count": 12,
   "metadata": {},
   "outputs": [],
   "source": [
    "def phase_est_R_circuit(n, phi, one = True):\n",
    "    c = cirq.Circuit()\n",
    "    #only need two qubits\n",
    "    q = cirq.LineQubit.range(n+1)\n",
    "    # apply H to first qubit \n",
    "    c.append([cirq.H(q[i]) for i in range(n)])\n",
    "    #bring second into eigenstate |1> \n",
    "    if one == True:\n",
    "        c.append([cirq.X(q[n])])\n",
    "    #apply \\tilde{U} see text for explanation\n",
    "    c.append([(cirq.Z(q[n])**(phi*(2**(n-i)))).controlled_by(q[i]) for i in range(n)])\n",
    "    #apply inverse qft (see 5. for implementation of qft)\n",
    "    c.append(cirq.qft(*[q[i] for i in range(n)])**-1)\n",
    "    #measure first register\n",
    "    c.append([cirq.ops.measure(*q[0:n], key='first_reg')])\n",
    "    return c\n",
    "    "
   ]
  },
  {
   "cell_type": "code",
   "execution_count": 13,
   "metadata": {},
   "outputs": [
    {
     "data": {
      "text/html": [
       "<pre style=\"overflow: auto; white-space: pre;\">0: ───H───@───────────────────qft^-1───M(&#x27;first_reg&#x27;)───\n",
       "          │                   │        │\n",
       "1: ───H───┼───@───────────────#2───────M────────────────\n",
       "          │   │               │        │\n",
       "2: ───H───┼───┼──────@────────#3───────M────────────────\n",
       "          │   │      │\n",
       "3: ───X───Z───S^-1───Z^0.75─────────────────────────────</pre>"
      ],
      "text/plain": [
       "0: ───H───@───────────────────qft^-1───M('first_reg')───\n",
       "          │                   │        │\n",
       "1: ───H───┼───@───────────────#2───────M────────────────\n",
       "          │   │               │        │\n",
       "2: ───H───┼───┼──────@────────#3───────M────────────────\n",
       "          │   │      │\n",
       "3: ───X───Z───S^-1───Z^0.75─────────────────────────────"
      ]
     },
     "execution_count": 13,
     "metadata": {},
     "output_type": "execute_result"
    }
   ],
   "source": [
    "s=cirq.Simulator()\n",
    "c = phase_est_R_circuit(3,3/8,True)\n",
    "c"
   ]
  },
  {
   "cell_type": "code",
   "execution_count": 14,
   "metadata": {},
   "outputs": [],
   "source": [
    "def phase_est_R(n ,phi, one =True, n_measurements = 100):\n",
    "    s=cirq.Simulator()\n",
    "    c = phase_est_R_circuit(n, phi, True)\n",
    "    measured = []\n",
    "    for i in range(n_measurements):\n",
    "        m = s.simulate(c)\n",
    "        x = sum([2**(-i-1)*m.measurements['first_reg'][i] for i in range(n)])\n",
    "        measured.append(x)\n",
    "    estimate = max(set(measured), key = measured.count)\n",
    "    return measured, estimate"
   ]
  },
  {
   "cell_type": "code",
   "execution_count": 15,
   "metadata": {},
   "outputs": [
    {
     "data": {
      "text/plain": [
       "0.375"
      ]
     },
     "execution_count": 15,
     "metadata": {},
     "output_type": "execute_result"
    },
    {
     "data": {
      "image/png": "[encoded data removed]",
      "text/plain": [
       "<Figure size 432x288 with 1 Axes>"
      ]
     },
     "metadata": {
      "needs_background": "light"
     },
     "output_type": "display_data"
    }
   ],
   "source": [
    "#3/8 = 1*2^-1+0*2^-2*1+1*2^-3 so can be represented with 3 bits\n",
    "x = phase_est_R(3,3/8,True)\n",
    "plt.hist(x[0])\n",
    "x[1]"
   ]
  },
  {
   "cell_type": "code",
   "execution_count": 245,
   "metadata": {},
   "outputs": [
    {
     "data": {
      "text/plain": [
       "0.375"
      ]
     },
     "execution_count": 245,
     "metadata": {},
     "output_type": "execute_result"
    },
    {
     "data": {
      "image/png": "[encoded data removed]",
      "text/plain": [
       "<Figure size 432x288 with 1 Axes>"
      ]
     },
     "metadata": {
      "needs_background": "light"
     },
     "output_type": "display_data"
    }
   ],
   "source": [
    "#1/3 can't be represented with finite number of bits\n",
    "x = phase_est_R(3,1/3,True)\n",
    "plt.hist(x[0])\n",
    "x[1]"
   ]
  },
  {
   "cell_type": "markdown",
   "metadata": {},
   "source": [
    "As we see we get the closest estimate to $1/3$ that can be represented with the number of bits.\n",
    "\n",
    "Let's see how the results improve with increasing number of bits $n$ "
   ]
  },
  {
   "cell_type": "code",
   "execution_count": 248,
   "metadata": {},
   "outputs": [
    {
     "data": {
      "text/plain": [
       "0.3330078125"
      ]
     },
     "execution_count": 248,
     "metadata": {},
     "output_type": "execute_result"
    },
    {
     "data": {
      "image/png": "[encoded data removed]",
      "text/plain": [
       "<Figure size 432x288 with 1 Axes>"
      ]
     },
     "metadata": {
      "needs_background": "light"
     },
     "output_type": "display_data"
    }
   ],
   "source": [
    "x = phase_est_R(10,1/3,True)\n",
    "plt.hist(x[0])\n",
    "x[1]"
   ]
  },
  {
   "cell_type": "code",
   "execution_count": 249,
   "metadata": {},
   "outputs": [
    {
     "data": {
      "text/plain": [
       "0.333251953125"
      ]
     },
     "execution_count": 249,
     "metadata": {},
     "output_type": "execute_result"
    },
    {
     "data": {
      "image/png": "[encoded data removed]",
      "text/plain": [
       "<Figure size 432x288 with 1 Axes>"
      ]
     },
     "metadata": {
      "needs_background": "light"
     },
     "output_type": "display_data"
    }
   ],
   "source": [
    "x = phase_est_R(12,1/3,True)\n",
    "plt.hist(x[0])\n",
    "x[1]"
   ]
  },
  {
   "cell_type": "code",
   "execution_count": 251,
   "metadata": {},
   "outputs": [
    {
     "data": {
      "text/plain": [
       "0.333343505859375"
      ]
     },
     "execution_count": 251,
     "metadata": {},
     "output_type": "execute_result"
    },
    {
     "data": {
      "image/png": "[encoded data removed]",
      "text/plain": [
       "<Figure size 432x288 with 1 Axes>"
      ]
     },
     "metadata": {
      "needs_background": "light"
     },
     "output_type": "display_data"
    }
   ],
   "source": [
    "x = phase_est_R(15,1/3,True,  n_measurements = 30)\n",
    "plt.hist(x[0])\n",
    "x[1]"
   ]
  },
  {
   "cell_type": "code",
   "execution_count": null,
   "metadata": {},
   "outputs": [],
   "source": []
  }
 ],
 "metadata": {
  "kernelspec": {
   "display_name": "Python 3",
   "language": "python",
   "name": "python3"
  },
  "language_info": {
   "codemirror_mode": {
    "name": "ipython",
    "version": 3
   },
   "file_extension": ".py",
   "mimetype": "text/x-python",
   "name": "python",
   "nbconvert_exporter": "python",
   "pygments_lexer": "ipython3",
   "version": "3.7.6"
  },
  "latex_envs": {
   "LaTeX_envs_menu_present": true,
   "autoclose": false,
   "autocomplete": true,
   "bibliofile": "biblio.bib",
   "cite_by": "apalike",
   "current_citInitial": 1,
   "eqLabelWithNumbers": true,
   "eqNumInitial": 1,
   "hotkeys": {
    "equation": "Ctrl-E",
    "itemize": "Ctrl-I"
   },
   "labels_anchors": false,
   "latex_user_defs": false,
   "report_style_numbering": false,
   "user_envs_cfg": false
  }
 },
 "nbformat": 4,
 "nbformat_minor": 4
}
