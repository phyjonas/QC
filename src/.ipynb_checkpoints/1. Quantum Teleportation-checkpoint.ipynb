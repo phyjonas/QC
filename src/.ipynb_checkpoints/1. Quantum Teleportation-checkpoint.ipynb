{
 "cells": [
  {
   "cell_type": "code",
   "execution_count": 1,
   "metadata": {},
   "outputs": [],
   "source": [
    "import cirq"
   ]
  },
  {
   "cell_type": "markdown",
   "metadata": {},
   "source": [
    "The message (quantum-state) can be sent by Alice to Bob just using two bits of classical information. During this process, the message state is \"destroyed\" and later reconstructed by Bob. Let's see how this works in the following"
   ]
  },
  {
   "cell_type": "markdown",
   "metadata": {},
   "source": [
    "Reading: Ch. 5, PhysRevLett.70.1895 (free to read)\n",
    "\n",
    "Alice and Bob will need to share a Bell state; this Bell state can be created with the following circuit."
   ]
  },
  {
   "cell_type": "code",
   "execution_count": 11,
   "metadata": {},
   "outputs": [],
   "source": [
    "def make_bell_state(q0, q1, index=(0, 0)):\n",
    "    if index[0]:\n",
    "        yield cirq.X(q0)\n",
    "    if index[1]:\n",
    "        yield cirq.X(q1)\n",
    "    yield cirq.H(q0)\n",
    "    yield cirq.CNOT(q0, q1)"
   ]
  },
  {
   "cell_type": "code",
   "execution_count": 100,
   "metadata": {},
   "outputs": [],
   "source": [
    "q0 = cirq.NamedQubit('Bob')\n",
    "q1 = cirq.NamedQubit('Alice')\n",
    "s=cirq.Simulator()"
   ]
  },
  {
   "cell_type": "markdown",
   "metadata": {},
   "source": [
    "Let's see if it all works\n",
    "We want to output the Bell basis\n",
    "\\begin{equation}\n",
    "|\\beta_{00}\\rangle= \\frac{1}{\\sqrt{2}}\\left(|00\\rangle +|11\\rangle\\right)\\\\\n",
    "|\\beta_{01}\\rangle= \\frac{1}{\\sqrt{2}}\\left(|01\\rangle +|10\\rangle\\right)\\\\\n",
    "|\\beta_{10}\\rangle= \\frac{1}{\\sqrt{2}}\\left(|00\\rangle -|11\\rangle\\right)\\\\\n",
    "|\\beta_{11}\\rangle= \\frac{1}{\\sqrt{2}}\\left(|01\\rangle -|10\\rangle\\right)\n",
    "\\end{equation}\n",
    "For example: $C|00\\rangle=  cX (H\\otimes I) |00\\rangle=  cX \\frac{1}{\\sqrt{2}}\\left(|0\\rangle + |1\\rangle \\right)|0\\rangle  =  cX \\frac{1}{\\sqrt{2}}\\left(|00\\rangle + |10\\rangle \\right) = |\\beta_{00} \\rangle $ "
   ]
  },
  {
   "cell_type": "code",
   "execution_count": 200,
   "metadata": {},
   "outputs": [
    {
     "name": "stdout",
     "output_type": "stream",
     "text": [
      "measurements: (no measurements)\n",
      "output vector: 0.707|00⟩ + 0.707|11⟩\n",
      "measurements: (no measurements)\n",
      "output vector: 0.707|01⟩ + 0.707|10⟩\n",
      "measurements: (no measurements)\n",
      "output vector: 0.707|00⟩ - 0.707|11⟩\n",
      "measurements: (no measurements)\n",
      "output vector: -0.707|01⟩ + 0.707|10⟩\n",
      "Circuit for (1,1)\n",
      "Alice: ─────X───────X───\n",
      "                    │\n",
      "message: ───X───H───@───\n"
     ]
    }
   ],
   "source": [
    "for index in [(0,0),(0,1),(1,0),(1,1)]:\n",
    "    bell_c= cirq.Circuit()\n",
    "    bell_c.append(make_bell_state(q0,q1,index))\n",
    "    results=s.simulate(bell_c)\n",
    "    print(results)\n",
    "print('Circuit for (1,1)')\n",
    "print(bell_c)"
   ]
  },
  {
   "cell_type": "markdown",
   "metadata": {},
   "source": [
    "Next we create the a circuit to initialise some message "
   ]
  },
  {
   "cell_type": "code",
   "execution_count": 201,
   "metadata": {},
   "outputs": [],
   "source": [
    "def message(q0,pow1,pow2):\n",
    "    ##applies power of X and Y gate to creat some state\n",
    "    yield [cirq.X(q0) ** pow1, cirq.Y(q0) ** pow2] "
   ]
  },
  {
   "cell_type": "markdown",
   "metadata": {},
   "source": [
    "We are now in the position to create the Teleportation circuit, where the main idea is that one can rewrite the state of the system in the following form (verify this)\n",
    "\\begin{equation}\n",
    "|m\\rangle|\\beta_{00}\\rangle= \\frac{1}{2}\\left(|\\beta_{00}\\rangle|m\\rangle + |\\beta_{01}\\rangle X|m\\rangle +|\\beta_{10}\\rangle Z|m\\rangle+ |\\beta_{11}\\rangle XZ|m\\rangle\\right)\n",
    "\\end{equation}\n",
    "Now recalling that $X^2 = 1$ and $Z^2=1$, the circuit's architecture should become apparent. Namely, depending on the two bits, Bob receives, he will apply $X$,$Z$ or $ZX$ to recover the message $|m\\rangle$"
   ]
  },
  {
   "cell_type": "code",
   "execution_count": 191,
   "metadata": {},
   "outputs": [],
   "source": [
    "def qt(pow1, pow2, p = True):\n",
    "    q0, q1, q2 =cirq.LineQubit.range(3)\n",
    "    c = cirq.Circuit()\n",
    "    ###create initial Bell state between Bob and Alice\n",
    "    c.append(make_bell_state(q1,q2))\n",
    "    ##create some message state\n",
    "    c.append(message(q0,pow1,pow2))\n",
    "    ###Bell measurement\n",
    "    c.append([cirq.CNOT(q0, q1), cirq.H(q0)])\n",
    "    c.append(cirq.measure(q0, q1))\n",
    "    ###Bob uses the classical bits to reconstruct the message\n",
    "    c.append([cirq.CNOT(q1,q2),cirq.CZ(q0,q2)])\n",
    "    if p:\n",
    "        print('Teleportation Circuit')\n",
    "        print(c)\n",
    "    return c"
   ]
  },
  {
   "cell_type": "code",
   "execution_count": 192,
   "metadata": {},
   "outputs": [],
   "source": [
    "def test(pow1,pow2,p=True):\n",
    "    ##teleport message\n",
    "    s=cirq.Simulator()\n",
    "    tele_c = qt(pow1,pow2,p)\n",
    "    results=s.simulate(tele_c)\n",
    "    teleported_message = cirq.bloch_vector_from_state_vector(results.final_state_vector, 2)\n",
    "    ##check acutal message\n",
    "    q0 = cirq.NamedQubit('message')\n",
    "    m = cirq.Circuit()\n",
    "    m.append(message(q0,pow1,pow2))\n",
    "    results=s.simulate(m)\n",
    "    acutal_message = cirq.bloch_vector_from_state_vector(results.final_state_vector, 0)\n",
    "    return teleported_message, acutal_message"
   ]
  },
  {
   "cell_type": "code",
   "execution_count": 193,
   "metadata": {},
   "outputs": [
    {
     "name": "stdout",
     "output_type": "stream",
     "text": [
      "Teleportation Circuit\n",
      "0: ───X^0.1───Y^0.3───@───H───M───────@───\n",
      "                      │       │       │\n",
      "1: ───H───────@───────X───────M───@───┼───\n",
      "              │                   │   │\n",
      "2: ───────────X───────────────────X───@───\n"
     ]
    },
    {
     "data": {
      "text/plain": [
       "(array([ 0.7694209 , -0.309017  ,  0.55901694], dtype=float32),\n",
       " array([ 0.7694209 , -0.309017  ,  0.55901694], dtype=float32))"
      ]
     },
     "execution_count": 193,
     "metadata": {},
     "output_type": "execute_result"
    }
   ],
   "source": [
    "test(0.1,0.3)"
   ]
  },
  {
   "cell_type": "markdown",
   "metadata": {},
   "source": [
    "Show that it actually works"
   ]
  },
  {
   "cell_type": "code",
   "execution_count": 208,
   "metadata": {},
   "outputs": [],
   "source": [
    "import random\n",
    "l = [(random.randrange(0, 1), random.randrange(0, 1)) for i in range(20)]"
   ]
  },
  {
   "cell_type": "code",
   "execution_count": 209,
   "metadata": {},
   "outputs": [],
   "source": [
    "for i in l:\n",
    "    t,m = test(*i, False)\n",
    "    assert t.all() == m.all()"
   ]
  },
  {
   "cell_type": "code",
   "execution_count": null,
   "metadata": {},
   "outputs": [],
   "source": []
  }
 ],
 "metadata": {
  "kernelspec": {
   "display_name": "Python 3",
   "language": "python",
   "name": "python3"
  },
  "language_info": {
   "codemirror_mode": {
    "name": "ipython",
    "version": 3
   },
   "file_extension": ".py",
   "mimetype": "text/x-python",
   "name": "python",
   "nbconvert_exporter": "python",
   "pygments_lexer": "ipython3",
   "version": "3.7.6"
  },
  "latex_envs": {
   "LaTeX_envs_menu_present": false,
   "autoclose": false,
   "autocomplete": true,
   "bibliofile": "biblio.bib",
   "cite_by": "apalike",
   "current_citInitial": 1,
   "eqLabelWithNumbers": true,
   "eqNumInitial": 1,
   "hotkeys": {
    "equation": "Ctrl-E",
    "itemize": "Ctrl-I"
   },
   "labels_anchors": false,
   "latex_user_defs": false,
   "report_style_numbering": false,
   "user_envs_cfg": false
  }
 },
 "nbformat": 4,
 "nbformat_minor": 4
}
