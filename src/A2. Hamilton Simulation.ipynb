{
 "cells": [
  {
   "cell_type": "markdown",
   "metadata": {},
   "source": [
    "One of the most important applications and acutally the one originally envisioned by Feynman is the Simulation of quantum mechanics itself. In the A1, we have seen how one can use the variational method to find the (approximate) groundstate of a Hamiltonian. \n",
    "\n",
    "Another problem of great interest is the time evolution of a quantum state under a certain Hamiltonian. This can be done efficiently on a quantum computer especially for large systems as they regularly occure in condensed matter physics or quantum chemistry."
   ]
  },
  {
   "cell_type": "markdown",
   "metadata": {},
   "source": [
    "Simulating quantum many-body systems is notoriously hard. The main reason for this is the expoential growth of the the Hilbert-space in the degrees of freedom, for example a system consisting of $n$ spins already has a hilbertspace dimension of $2^n$, meaning the Hamiltonian is a $2^n \\times 2^n$ matrix, often this matrix has a special structure and symmetries allowing for special treatments. Nevertheless the memeory as well as the runtime requirements for grow exponentially for simulating many-body quantum systems on a classical computer. It is therefore hopeless to attempt to simulate large systems classically especially in the strongly interacting regime. "
   ]
  },
  {
   "cell_type": "code",
   "execution_count": null,
   "metadata": {},
   "outputs": [],
   "source": []
  }
 ],
 "metadata": {
  "kernelspec": {
   "display_name": "Python 3",
   "language": "python",
   "name": "python3"
  },
  "language_info": {
   "codemirror_mode": {
    "name": "ipython",
    "version": 3
   },
   "file_extension": ".py",
   "mimetype": "text/x-python",
   "name": "python",
   "nbconvert_exporter": "python",
   "pygments_lexer": "ipython3",
   "version": "3.7.6"
  },
  "latex_envs": {
   "LaTeX_envs_menu_present": true,
   "autoclose": false,
   "autocomplete": true,
   "bibliofile": "biblio.bib",
   "cite_by": "apalike",
   "current_citInitial": 1,
   "eqLabelWithNumbers": true,
   "eqNumInitial": 1,
   "hotkeys": {
    "equation": "Ctrl-E",
    "itemize": "Ctrl-I"
   },
   "labels_anchors": false,
   "latex_user_defs": false,
   "report_style_numbering": false,
   "user_envs_cfg": false
  }
 },
 "nbformat": 4,
 "nbformat_minor": 4
}
